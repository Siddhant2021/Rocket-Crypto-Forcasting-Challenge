{
 "cells": [
  {
   "cell_type": "code",
   "execution_count": 1,
   "metadata": {
    "_cell_guid": "b1076dfc-b9ad-4769-8c92-a6c4dae69d19",
    "_uuid": "8f2839f25d086af736a60e9eeb907d3b93b6e0e5",
    "execution": {
     "iopub.execute_input": "2022-07-23T11:05:38.601095Z",
     "iopub.status.busy": "2022-07-23T11:05:38.600209Z",
     "iopub.status.idle": "2022-07-23T11:05:38.612027Z",
     "shell.execute_reply": "2022-07-23T11:05:38.610477Z",
     "shell.execute_reply.started": "2022-07-23T11:05:38.601056Z"
    }
   },
   "outputs": [],
   "source": [
    "# This Python 3 environment comes with many helpful analytics libraries installed\n",
    "# It is defined by the kaggle/python Docker image: https://github.com/kaggle/docker-python\n",
    "# For example, here's several helpful packages to load\n",
    "\n",
    "import numpy as np # linear algebra\n",
    "import pandas as pd # data processing, CSV file I/O (e.g. pd.read_csv)\n",
    "import seaborn as sns\n",
    "import matplotlib.pyplot as plt\n",
    "# from termcolor import colored\n",
    "# Input data files are available in the read-only \"../input/\" directory\n",
    "# For example, running this (by clicking run or pressing Shift+Enter) will list all files under the input directory\n",
    "\n",
    "\n",
    "\n",
    "# You can write up to 20GB to the current directory (/kaggle/working/) that gets preserved as output when you create a version using \"Save & Run All\" \n",
    "# You can also write temporary files to /kaggle/temp/, but they won't be saved outside of the current session"
   ]
  },
  {
   "cell_type": "code",
   "execution_count": 2,
   "metadata": {
    "execution": {
     "iopub.execute_input": "2022-07-23T11:05:38.660037Z",
     "iopub.status.busy": "2022-07-23T11:05:38.658760Z",
     "iopub.status.idle": "2022-07-23T11:05:38.720027Z",
     "shell.execute_reply": "2022-07-23T11:05:38.719116Z",
     "shell.execute_reply.started": "2022-07-23T11:05:38.659982Z"
    }
   },
   "outputs": [
    {
     "ename": "FileNotFoundError",
     "evalue": "[Errno 2] No such file or directory: 'train.csv'",
     "output_type": "error",
     "traceback": [
      "\u001b[0;31m---------------------------------------------------------------------------\u001b[0m",
      "\u001b[0;31mFileNotFoundError\u001b[0m                         Traceback (most recent call last)",
      "\u001b[1;32m/Users/siddhant/Downloads/notebookc160eaec43 (1).ipynb Cell 2\u001b[0m in \u001b[0;36m<cell line: 1>\u001b[0;34m()\u001b[0m\n\u001b[0;32m----> <a href='vscode-notebook-cell:/Users/siddhant/Downloads/notebookc160eaec43%20%281%29.ipynb#W1sZmlsZQ%3D%3D?line=0'>1</a>\u001b[0m train_data\u001b[39m=\u001b[39mpd\u001b[39m.\u001b[39;49mread_csv(\u001b[39m'\u001b[39;49m\u001b[39mtrain.csv\u001b[39;49m\u001b[39m'\u001b[39;49m)\n\u001b[1;32m      <a href='vscode-notebook-cell:/Users/siddhant/Downloads/notebookc160eaec43%20%281%29.ipynb#W1sZmlsZQ%3D%3D?line=1'>2</a>\u001b[0m train_data\u001b[39m.\u001b[39mhead()\n",
      "File \u001b[0;32m~/opt/anaconda3/lib/python3.9/site-packages/pandas/util/_decorators.py:311\u001b[0m, in \u001b[0;36mdeprecate_nonkeyword_arguments.<locals>.decorate.<locals>.wrapper\u001b[0;34m(*args, **kwargs)\u001b[0m\n\u001b[1;32m    305\u001b[0m \u001b[39mif\u001b[39;00m \u001b[39mlen\u001b[39m(args) \u001b[39m>\u001b[39m num_allow_args:\n\u001b[1;32m    306\u001b[0m     warnings\u001b[39m.\u001b[39mwarn(\n\u001b[1;32m    307\u001b[0m         msg\u001b[39m.\u001b[39mformat(arguments\u001b[39m=\u001b[39marguments),\n\u001b[1;32m    308\u001b[0m         \u001b[39mFutureWarning\u001b[39;00m,\n\u001b[1;32m    309\u001b[0m         stacklevel\u001b[39m=\u001b[39mstacklevel,\n\u001b[1;32m    310\u001b[0m     )\n\u001b[0;32m--> 311\u001b[0m \u001b[39mreturn\u001b[39;00m func(\u001b[39m*\u001b[39;49margs, \u001b[39m*\u001b[39;49m\u001b[39m*\u001b[39;49mkwargs)\n",
      "File \u001b[0;32m~/opt/anaconda3/lib/python3.9/site-packages/pandas/io/parsers/readers.py:680\u001b[0m, in \u001b[0;36mread_csv\u001b[0;34m(filepath_or_buffer, sep, delimiter, header, names, index_col, usecols, squeeze, prefix, mangle_dupe_cols, dtype, engine, converters, true_values, false_values, skipinitialspace, skiprows, skipfooter, nrows, na_values, keep_default_na, na_filter, verbose, skip_blank_lines, parse_dates, infer_datetime_format, keep_date_col, date_parser, dayfirst, cache_dates, iterator, chunksize, compression, thousands, decimal, lineterminator, quotechar, quoting, doublequote, escapechar, comment, encoding, encoding_errors, dialect, error_bad_lines, warn_bad_lines, on_bad_lines, delim_whitespace, low_memory, memory_map, float_precision, storage_options)\u001b[0m\n\u001b[1;32m    665\u001b[0m kwds_defaults \u001b[39m=\u001b[39m _refine_defaults_read(\n\u001b[1;32m    666\u001b[0m     dialect,\n\u001b[1;32m    667\u001b[0m     delimiter,\n\u001b[0;32m   (...)\u001b[0m\n\u001b[1;32m    676\u001b[0m     defaults\u001b[39m=\u001b[39m{\u001b[39m\"\u001b[39m\u001b[39mdelimiter\u001b[39m\u001b[39m\"\u001b[39m: \u001b[39m\"\u001b[39m\u001b[39m,\u001b[39m\u001b[39m\"\u001b[39m},\n\u001b[1;32m    677\u001b[0m )\n\u001b[1;32m    678\u001b[0m kwds\u001b[39m.\u001b[39mupdate(kwds_defaults)\n\u001b[0;32m--> 680\u001b[0m \u001b[39mreturn\u001b[39;00m _read(filepath_or_buffer, kwds)\n",
      "File \u001b[0;32m~/opt/anaconda3/lib/python3.9/site-packages/pandas/io/parsers/readers.py:575\u001b[0m, in \u001b[0;36m_read\u001b[0;34m(filepath_or_buffer, kwds)\u001b[0m\n\u001b[1;32m    572\u001b[0m _validate_names(kwds\u001b[39m.\u001b[39mget(\u001b[39m\"\u001b[39m\u001b[39mnames\u001b[39m\u001b[39m\"\u001b[39m, \u001b[39mNone\u001b[39;00m))\n\u001b[1;32m    574\u001b[0m \u001b[39m# Create the parser.\u001b[39;00m\n\u001b[0;32m--> 575\u001b[0m parser \u001b[39m=\u001b[39m TextFileReader(filepath_or_buffer, \u001b[39m*\u001b[39;49m\u001b[39m*\u001b[39;49mkwds)\n\u001b[1;32m    577\u001b[0m \u001b[39mif\u001b[39;00m chunksize \u001b[39mor\u001b[39;00m iterator:\n\u001b[1;32m    578\u001b[0m     \u001b[39mreturn\u001b[39;00m parser\n",
      "File \u001b[0;32m~/opt/anaconda3/lib/python3.9/site-packages/pandas/io/parsers/readers.py:933\u001b[0m, in \u001b[0;36mTextFileReader.__init__\u001b[0;34m(self, f, engine, **kwds)\u001b[0m\n\u001b[1;32m    930\u001b[0m     \u001b[39mself\u001b[39m\u001b[39m.\u001b[39moptions[\u001b[39m\"\u001b[39m\u001b[39mhas_index_names\u001b[39m\u001b[39m\"\u001b[39m] \u001b[39m=\u001b[39m kwds[\u001b[39m\"\u001b[39m\u001b[39mhas_index_names\u001b[39m\u001b[39m\"\u001b[39m]\n\u001b[1;32m    932\u001b[0m \u001b[39mself\u001b[39m\u001b[39m.\u001b[39mhandles: IOHandles \u001b[39m|\u001b[39m \u001b[39mNone\u001b[39;00m \u001b[39m=\u001b[39m \u001b[39mNone\u001b[39;00m\n\u001b[0;32m--> 933\u001b[0m \u001b[39mself\u001b[39m\u001b[39m.\u001b[39m_engine \u001b[39m=\u001b[39m \u001b[39mself\u001b[39;49m\u001b[39m.\u001b[39;49m_make_engine(f, \u001b[39mself\u001b[39;49m\u001b[39m.\u001b[39;49mengine)\n",
      "File \u001b[0;32m~/opt/anaconda3/lib/python3.9/site-packages/pandas/io/parsers/readers.py:1217\u001b[0m, in \u001b[0;36mTextFileReader._make_engine\u001b[0;34m(self, f, engine)\u001b[0m\n\u001b[1;32m   1213\u001b[0m     mode \u001b[39m=\u001b[39m \u001b[39m\"\u001b[39m\u001b[39mrb\u001b[39m\u001b[39m\"\u001b[39m\n\u001b[1;32m   1214\u001b[0m \u001b[39m# error: No overload variant of \"get_handle\" matches argument types\u001b[39;00m\n\u001b[1;32m   1215\u001b[0m \u001b[39m# \"Union[str, PathLike[str], ReadCsvBuffer[bytes], ReadCsvBuffer[str]]\"\u001b[39;00m\n\u001b[1;32m   1216\u001b[0m \u001b[39m# , \"str\", \"bool\", \"Any\", \"Any\", \"Any\", \"Any\", \"Any\"\u001b[39;00m\n\u001b[0;32m-> 1217\u001b[0m \u001b[39mself\u001b[39m\u001b[39m.\u001b[39mhandles \u001b[39m=\u001b[39m get_handle(  \u001b[39m# type: ignore[call-overload]\u001b[39;49;00m\n\u001b[1;32m   1218\u001b[0m     f,\n\u001b[1;32m   1219\u001b[0m     mode,\n\u001b[1;32m   1220\u001b[0m     encoding\u001b[39m=\u001b[39;49m\u001b[39mself\u001b[39;49m\u001b[39m.\u001b[39;49moptions\u001b[39m.\u001b[39;49mget(\u001b[39m\"\u001b[39;49m\u001b[39mencoding\u001b[39;49m\u001b[39m\"\u001b[39;49m, \u001b[39mNone\u001b[39;49;00m),\n\u001b[1;32m   1221\u001b[0m     compression\u001b[39m=\u001b[39;49m\u001b[39mself\u001b[39;49m\u001b[39m.\u001b[39;49moptions\u001b[39m.\u001b[39;49mget(\u001b[39m\"\u001b[39;49m\u001b[39mcompression\u001b[39;49m\u001b[39m\"\u001b[39;49m, \u001b[39mNone\u001b[39;49;00m),\n\u001b[1;32m   1222\u001b[0m     memory_map\u001b[39m=\u001b[39;49m\u001b[39mself\u001b[39;49m\u001b[39m.\u001b[39;49moptions\u001b[39m.\u001b[39;49mget(\u001b[39m\"\u001b[39;49m\u001b[39mmemory_map\u001b[39;49m\u001b[39m\"\u001b[39;49m, \u001b[39mFalse\u001b[39;49;00m),\n\u001b[1;32m   1223\u001b[0m     is_text\u001b[39m=\u001b[39;49mis_text,\n\u001b[1;32m   1224\u001b[0m     errors\u001b[39m=\u001b[39;49m\u001b[39mself\u001b[39;49m\u001b[39m.\u001b[39;49moptions\u001b[39m.\u001b[39;49mget(\u001b[39m\"\u001b[39;49m\u001b[39mencoding_errors\u001b[39;49m\u001b[39m\"\u001b[39;49m, \u001b[39m\"\u001b[39;49m\u001b[39mstrict\u001b[39;49m\u001b[39m\"\u001b[39;49m),\n\u001b[1;32m   1225\u001b[0m     storage_options\u001b[39m=\u001b[39;49m\u001b[39mself\u001b[39;49m\u001b[39m.\u001b[39;49moptions\u001b[39m.\u001b[39;49mget(\u001b[39m\"\u001b[39;49m\u001b[39mstorage_options\u001b[39;49m\u001b[39m\"\u001b[39;49m, \u001b[39mNone\u001b[39;49;00m),\n\u001b[1;32m   1226\u001b[0m )\n\u001b[1;32m   1227\u001b[0m \u001b[39massert\u001b[39;00m \u001b[39mself\u001b[39m\u001b[39m.\u001b[39mhandles \u001b[39mis\u001b[39;00m \u001b[39mnot\u001b[39;00m \u001b[39mNone\u001b[39;00m\n\u001b[1;32m   1228\u001b[0m f \u001b[39m=\u001b[39m \u001b[39mself\u001b[39m\u001b[39m.\u001b[39mhandles\u001b[39m.\u001b[39mhandle\n",
      "File \u001b[0;32m~/opt/anaconda3/lib/python3.9/site-packages/pandas/io/common.py:789\u001b[0m, in \u001b[0;36mget_handle\u001b[0;34m(path_or_buf, mode, encoding, compression, memory_map, is_text, errors, storage_options)\u001b[0m\n\u001b[1;32m    784\u001b[0m \u001b[39melif\u001b[39;00m \u001b[39misinstance\u001b[39m(handle, \u001b[39mstr\u001b[39m):\n\u001b[1;32m    785\u001b[0m     \u001b[39m# Check whether the filename is to be opened in binary mode.\u001b[39;00m\n\u001b[1;32m    786\u001b[0m     \u001b[39m# Binary mode does not support 'encoding' and 'newline'.\u001b[39;00m\n\u001b[1;32m    787\u001b[0m     \u001b[39mif\u001b[39;00m ioargs\u001b[39m.\u001b[39mencoding \u001b[39mand\u001b[39;00m \u001b[39m\"\u001b[39m\u001b[39mb\u001b[39m\u001b[39m\"\u001b[39m \u001b[39mnot\u001b[39;00m \u001b[39min\u001b[39;00m ioargs\u001b[39m.\u001b[39mmode:\n\u001b[1;32m    788\u001b[0m         \u001b[39m# Encoding\u001b[39;00m\n\u001b[0;32m--> 789\u001b[0m         handle \u001b[39m=\u001b[39m \u001b[39mopen\u001b[39;49m(\n\u001b[1;32m    790\u001b[0m             handle,\n\u001b[1;32m    791\u001b[0m             ioargs\u001b[39m.\u001b[39;49mmode,\n\u001b[1;32m    792\u001b[0m             encoding\u001b[39m=\u001b[39;49mioargs\u001b[39m.\u001b[39;49mencoding,\n\u001b[1;32m    793\u001b[0m             errors\u001b[39m=\u001b[39;49merrors,\n\u001b[1;32m    794\u001b[0m             newline\u001b[39m=\u001b[39;49m\u001b[39m\"\u001b[39;49m\u001b[39m\"\u001b[39;49m,\n\u001b[1;32m    795\u001b[0m         )\n\u001b[1;32m    796\u001b[0m     \u001b[39melse\u001b[39;00m:\n\u001b[1;32m    797\u001b[0m         \u001b[39m# Binary mode\u001b[39;00m\n\u001b[1;32m    798\u001b[0m         handle \u001b[39m=\u001b[39m \u001b[39mopen\u001b[39m(handle, ioargs\u001b[39m.\u001b[39mmode)\n",
      "\u001b[0;31mFileNotFoundError\u001b[0m: [Errno 2] No such file or directory: 'train.csv'"
     ]
    }
   ],
   "source": [
    "train_data=pd.read_csv('train.csv')\n",
    "train_data.head()"
   ]
  },
  {
   "cell_type": "code",
   "execution_count": null,
   "metadata": {
    "execution": {
     "iopub.execute_input": "2022-07-23T11:05:38.722700Z",
     "iopub.status.busy": "2022-07-23T11:05:38.722238Z",
     "iopub.status.idle": "2022-07-23T11:05:38.746263Z",
     "shell.execute_reply": "2022-07-23T11:05:38.745279Z",
     "shell.execute_reply.started": "2022-07-23T11:05:38.722659Z"
    }
   },
   "outputs": [],
   "source": [
    "train_data.tail()\n"
   ]
  },
  {
   "cell_type": "code",
   "execution_count": null,
   "metadata": {
    "execution": {
     "iopub.execute_input": "2022-07-23T11:05:38.819045Z",
     "iopub.status.busy": "2022-07-23T11:05:38.818189Z",
     "iopub.status.idle": "2022-07-23T11:05:38.825209Z",
     "shell.execute_reply": "2022-07-23T11:05:38.824443Z",
     "shell.execute_reply.started": "2022-07-23T11:05:38.819008Z"
    }
   },
   "outputs": [],
   "source": [
    "train_data=train_data.drop('Name',axis=1)\n"
   ]
  },
  {
   "cell_type": "code",
   "execution_count": null,
   "metadata": {
    "execution": {
     "iopub.execute_input": "2022-07-23T11:05:38.860573Z",
     "iopub.status.busy": "2022-07-23T11:05:38.857961Z",
     "iopub.status.idle": "2022-07-23T11:05:38.868476Z",
     "shell.execute_reply": "2022-07-23T11:05:38.867211Z",
     "shell.execute_reply.started": "2022-07-23T11:05:38.860525Z"
    }
   },
   "outputs": [],
   "source": [
    "print(colored(f'Number of rows in training data is : {train_data.shape[0]}','red'))"
   ]
  },
  {
   "cell_type": "code",
   "execution_count": null,
   "metadata": {
    "execution": {
     "iopub.execute_input": "2022-07-23T11:05:38.873846Z",
     "iopub.status.busy": "2022-07-23T11:05:38.873482Z",
     "iopub.status.idle": "2022-07-23T11:05:39.063909Z",
     "shell.execute_reply": "2022-07-23T11:05:39.062724Z",
     "shell.execute_reply.started": "2022-07-23T11:05:38.873815Z"
    }
   },
   "outputs": [],
   "source": [
    "sns.countplot(train_data['HomePlanet'],data=train_data,order= train_data['HomePlanet'].value_counts(ascending=False).index)\n"
   ]
  },
  {
   "cell_type": "code",
   "execution_count": null,
   "metadata": {},
   "outputs": [],
   "source": []
  },
  {
   "cell_type": "code",
   "execution_count": null,
   "metadata": {
    "execution": {
     "iopub.execute_input": "2022-07-23T11:05:39.066541Z",
     "iopub.status.busy": "2022-07-23T11:05:39.066066Z",
     "iopub.status.idle": "2022-07-23T11:05:39.089207Z",
     "shell.execute_reply": "2022-07-23T11:05:39.087688Z",
     "shell.execute_reply.started": "2022-07-23T11:05:39.066498Z"
    }
   },
   "outputs": [],
   "source": [
    "train_data.head()"
   ]
  },
  {
   "cell_type": "code",
   "execution_count": null,
   "metadata": {
    "execution": {
     "iopub.execute_input": "2022-07-23T11:05:39.170276Z",
     "iopub.status.busy": "2022-07-23T11:05:39.169455Z",
     "iopub.status.idle": "2022-07-23T11:05:39.187651Z",
     "shell.execute_reply": "2022-07-23T11:05:39.185966Z",
     "shell.execute_reply.started": "2022-07-23T11:05:39.170228Z"
    }
   },
   "outputs": [],
   "source": [
    "train_data.isnull().sum()"
   ]
  },
  {
   "cell_type": "code",
   "execution_count": null,
   "metadata": {
    "execution": {
     "iopub.execute_input": "2022-07-23T11:05:39.191111Z",
     "iopub.status.busy": "2022-07-23T11:05:39.190323Z",
     "iopub.status.idle": "2022-07-23T11:05:39.362894Z",
     "shell.execute_reply": "2022-07-23T11:05:39.361665Z",
     "shell.execute_reply.started": "2022-07-23T11:05:39.191066Z"
    }
   },
   "outputs": [],
   "source": [
    "sns.countplot('HomePlanet',hue='Transported',data=train_data,order=train_data['HomePlanet'].value_counts(ascending=False).index,)"
   ]
  },
  {
   "cell_type": "code",
   "execution_count": null,
   "metadata": {
    "execution": {
     "iopub.execute_input": "2022-07-23T11:05:39.367737Z",
     "iopub.status.busy": "2022-07-23T11:05:39.366522Z",
     "iopub.status.idle": "2022-07-23T11:05:39.563545Z",
     "shell.execute_reply": "2022-07-23T11:05:39.562128Z",
     "shell.execute_reply.started": "2022-07-23T11:05:39.367681Z"
    }
   },
   "outputs": [],
   "source": [
    "sns.countplot('CryoSleep',data=train_data).set(title='Cryo Sleep count on train data')\n"
   ]
  },
  {
   "cell_type": "code",
   "execution_count": null,
   "metadata": {
    "execution": {
     "iopub.execute_input": "2022-07-23T11:05:39.566909Z",
     "iopub.status.busy": "2022-07-23T11:05:39.565550Z",
     "iopub.status.idle": "2022-07-23T11:05:39.894051Z",
     "shell.execute_reply": "2022-07-23T11:05:39.892676Z",
     "shell.execute_reply.started": "2022-07-23T11:05:39.566853Z"
    }
   },
   "outputs": [],
   "source": [
    "plt.figure(figsize=(20,8))\n",
    "sns.histplot(train_data.Age, color=sns.color_palette('flare')[2])\n",
    "plt.show()\n"
   ]
  },
  {
   "cell_type": "code",
   "execution_count": null,
   "metadata": {
    "execution": {
     "iopub.execute_input": "2022-07-23T11:05:39.898049Z",
     "iopub.status.busy": "2022-07-23T11:05:39.897628Z",
     "iopub.status.idle": "2022-07-23T11:05:40.420712Z",
     "shell.execute_reply": "2022-07-23T11:05:40.419640Z",
     "shell.execute_reply.started": "2022-07-23T11:05:39.898015Z"
    }
   },
   "outputs": [],
   "source": [
    "sns.scatterplot('Age','RoomService',hue='Transported',data=train_data)\n"
   ]
  },
  {
   "cell_type": "code",
   "execution_count": null,
   "metadata": {
    "execution": {
     "iopub.execute_input": "2022-07-23T11:05:40.422717Z",
     "iopub.status.busy": "2022-07-23T11:05:40.422193Z",
     "iopub.status.idle": "2022-07-23T11:05:40.926865Z",
     "shell.execute_reply": "2022-07-23T11:05:40.925284Z",
     "shell.execute_reply.started": "2022-07-23T11:05:40.422684Z"
    }
   },
   "outputs": [],
   "source": [
    "sns.scatterplot('Age','ShoppingMall',hue='Transported',data=train_data)"
   ]
  },
  {
   "cell_type": "code",
   "execution_count": null,
   "metadata": {
    "execution": {
     "iopub.execute_input": "2022-07-23T11:05:40.928967Z",
     "iopub.status.busy": "2022-07-23T11:05:40.928597Z",
     "iopub.status.idle": "2022-07-23T11:05:41.441730Z",
     "shell.execute_reply": "2022-07-23T11:05:41.440315Z",
     "shell.execute_reply.started": "2022-07-23T11:05:40.928934Z"
    }
   },
   "outputs": [],
   "source": [
    "sns.scatterplot('Age','VRDeck',hue='Transported',data=train_data)\n"
   ]
  },
  {
   "cell_type": "code",
   "execution_count": null,
   "metadata": {
    "execution": {
     "iopub.execute_input": "2022-07-23T11:05:41.444609Z",
     "iopub.status.busy": "2022-07-23T11:05:41.443976Z",
     "iopub.status.idle": "2022-07-23T11:05:41.963676Z",
     "shell.execute_reply": "2022-07-23T11:05:41.962398Z",
     "shell.execute_reply.started": "2022-07-23T11:05:41.444575Z"
    }
   },
   "outputs": [],
   "source": [
    "sns.scatterplot('Age','FoodCourt',hue='Transported',data=train_data)\n"
   ]
  },
  {
   "cell_type": "code",
   "execution_count": null,
   "metadata": {
    "execution": {
     "iopub.execute_input": "2022-07-23T11:05:41.965932Z",
     "iopub.status.busy": "2022-07-23T11:05:41.965502Z",
     "iopub.status.idle": "2022-07-23T11:05:42.207229Z",
     "shell.execute_reply": "2022-07-23T11:05:42.205717Z",
     "shell.execute_reply.started": "2022-07-23T11:05:41.965896Z"
    }
   },
   "outputs": [],
   "source": [
    "sns.countplot('CryoSleep',hue='Transported',data=train_data)\n"
   ]
  },
  {
   "cell_type": "code",
   "execution_count": null,
   "metadata": {
    "execution": {
     "iopub.execute_input": "2022-07-23T11:05:42.209432Z",
     "iopub.status.busy": "2022-07-23T11:05:42.209006Z",
     "iopub.status.idle": "2022-07-23T11:05:42.513950Z",
     "shell.execute_reply": "2022-07-23T11:05:42.513090Z",
     "shell.execute_reply.started": "2022-07-23T11:05:42.209382Z"
    }
   },
   "outputs": [],
   "source": [
    "pp=train_data.corr()\n",
    "sns.heatmap(pp)"
   ]
  },
  {
   "cell_type": "code",
   "execution_count": null,
   "metadata": {
    "execution": {
     "iopub.execute_input": "2022-07-23T11:05:42.516206Z",
     "iopub.status.busy": "2022-07-23T11:05:42.515159Z",
     "iopub.status.idle": "2022-07-23T11:05:42.558758Z",
     "shell.execute_reply": "2022-07-23T11:05:42.557507Z",
     "shell.execute_reply.started": "2022-07-23T11:05:42.516170Z"
    }
   },
   "outputs": [],
   "source": [
    "from sklearn.preprocessing import LabelEncoder\n",
    "\n",
    "le=LabelEncoder()\n",
    "train_data['Transported']= le.fit_transform(train_data['Transported'])\n",
    "train_data['HomePlanet'] = le.fit_transform(train_data['HomePlanet'])\n",
    "train_data['Cabin'] = le.fit_transform(train_data['Cabin'])\n",
    "train_data['Destination'] =le.fit_transform(train_data['Destination'])\n",
    "train_data['CryoSleep'] =le.fit_transform(train_data['CryoSleep'])\n",
    "train_data['VIP'] =le.fit_transform(train_data['VIP'])"
   ]
  },
  {
   "cell_type": "code",
   "execution_count": null,
   "metadata": {
    "execution": {
     "iopub.execute_input": "2022-07-23T11:05:42.560710Z",
     "iopub.status.busy": "2022-07-23T11:05:42.560313Z",
     "iopub.status.idle": "2022-07-23T11:05:42.590961Z",
     "shell.execute_reply": "2022-07-23T11:05:42.589625Z",
     "shell.execute_reply.started": "2022-07-23T11:05:42.560678Z"
    }
   },
   "outputs": [],
   "source": [
    "for i in train_data.columns:\n",
    "    if train_data[i].dtype=='object':\n",
    "        train_data[i].fillna(train_data[i].mode()[0],inplace=True)\n",
    "    else:\n",
    "         train_data[i].fillna(train_data[i].median(),inplace=True)\n",
    "\n",
    "    "
   ]
  },
  {
   "cell_type": "code",
   "execution_count": null,
   "metadata": {
    "execution": {
     "iopub.execute_input": "2022-07-23T11:05:42.593861Z",
     "iopub.status.busy": "2022-07-23T11:05:42.592693Z",
     "iopub.status.idle": "2022-07-23T11:05:42.607803Z",
     "shell.execute_reply": "2022-07-23T11:05:42.606266Z",
     "shell.execute_reply.started": "2022-07-23T11:05:42.593795Z"
    }
   },
   "outputs": [],
   "source": [
    "train_data.isnull().sum()"
   ]
  },
  {
   "cell_type": "code",
   "execution_count": null,
   "metadata": {
    "execution": {
     "iopub.execute_input": "2022-07-23T11:05:42.612210Z",
     "iopub.status.busy": "2022-07-23T11:05:42.611838Z",
     "iopub.status.idle": "2022-07-23T11:05:42.621293Z",
     "shell.execute_reply": "2022-07-23T11:05:42.620082Z",
     "shell.execute_reply.started": "2022-07-23T11:05:42.612178Z"
    }
   },
   "outputs": [],
   "source": [
    "y=train_data['Transported']\n",
    "x=train_data.drop('Transported',axis=1)\n"
   ]
  },
  {
   "cell_type": "code",
   "execution_count": null,
   "metadata": {
    "execution": {
     "iopub.execute_input": "2022-07-23T11:05:42.623024Z",
     "iopub.status.busy": "2022-07-23T11:05:42.622694Z",
     "iopub.status.idle": "2022-07-23T11:05:43.429649Z",
     "shell.execute_reply": "2022-07-23T11:05:43.428741Z",
     "shell.execute_reply.started": "2022-07-23T11:05:42.622994Z"
    }
   },
   "outputs": [],
   "source": [
    "from sklearn.ensemble import RandomForestClassifier\n",
    "model=RandomForestClassifier(max_depth=10,random_state=42)\n",
    "model.fit(train_X,train_y)"
   ]
  },
  {
   "cell_type": "code",
   "execution_count": null,
   "metadata": {
    "execution": {
     "iopub.execute_input": "2022-07-23T11:05:43.431948Z",
     "iopub.status.busy": "2022-07-23T11:05:43.430974Z",
     "iopub.status.idle": "2022-07-23T11:05:43.452828Z",
     "shell.execute_reply": "2022-07-23T11:05:43.451863Z",
     "shell.execute_reply.started": "2022-07-23T11:05:43.431910Z"
    }
   },
   "outputs": [],
   "source": [
    "test_data=pd.read_csv('../input/spaceship-titanic/test.csv')"
   ]
  },
  {
   "cell_type": "code",
   "execution_count": null,
   "metadata": {
    "execution": {
     "iopub.execute_input": "2022-07-23T11:05:43.454942Z",
     "iopub.status.busy": "2022-07-23T11:05:43.454422Z",
     "iopub.status.idle": "2022-07-23T11:05:43.477671Z",
     "shell.execute_reply": "2022-07-23T11:05:43.476776Z",
     "shell.execute_reply.started": "2022-07-23T11:05:43.454909Z"
    }
   },
   "outputs": [],
   "source": [
    "test_data.head()\n"
   ]
  },
  {
   "cell_type": "code",
   "execution_count": null,
   "metadata": {
    "execution": {
     "iopub.execute_input": "2022-07-23T11:05:43.479532Z",
     "iopub.status.busy": "2022-07-23T11:05:43.478997Z",
     "iopub.status.idle": "2022-07-23T11:05:43.495665Z",
     "shell.execute_reply": "2022-07-23T11:05:43.494645Z",
     "shell.execute_reply.started": "2022-07-23T11:05:43.479500Z"
    }
   },
   "outputs": [],
   "source": [
    "test_data.info()"
   ]
  },
  {
   "cell_type": "code",
   "execution_count": null,
   "metadata": {
    "execution": {
     "iopub.execute_input": "2022-07-23T11:05:43.497994Z",
     "iopub.status.busy": "2022-07-23T11:05:43.497175Z",
     "iopub.status.idle": "2022-07-23T11:05:43.504425Z",
     "shell.execute_reply": "2022-07-23T11:05:43.503480Z",
     "shell.execute_reply.started": "2022-07-23T11:05:43.497957Z"
    }
   },
   "outputs": [],
   "source": [
    "test_data.drop(\"Name\",axis=1,inplace = True)"
   ]
  },
  {
   "cell_type": "code",
   "execution_count": null,
   "metadata": {
    "execution": {
     "iopub.execute_input": "2022-07-23T11:05:43.507133Z",
     "iopub.status.busy": "2022-07-23T11:05:43.506642Z",
     "iopub.status.idle": "2022-07-23T11:05:43.548269Z",
     "shell.execute_reply": "2022-07-23T11:05:43.546615Z",
     "shell.execute_reply.started": "2022-07-23T11:05:43.507085Z"
    }
   },
   "outputs": [],
   "source": [
    "for i in test_data.columns:\n",
    "    if test_data[i].dtypes == 'object':\n",
    "        test_data[i].fillna(test_data[i].mode()[0], inplace=True)\n",
    "    else:\n",
    "        test_data[i].fillna(test_data[i].median(), inplace=True)\n",
    "print(test_data)"
   ]
  },
  {
   "cell_type": "code",
   "execution_count": null,
   "metadata": {
    "execution": {
     "iopub.execute_input": "2022-07-23T11:05:43.550904Z",
     "iopub.status.busy": "2022-07-23T11:05:43.550437Z",
     "iopub.status.idle": "2022-07-23T11:05:43.575703Z",
     "shell.execute_reply": "2022-07-23T11:05:43.574228Z",
     "shell.execute_reply.started": "2022-07-23T11:05:43.550859Z"
    }
   },
   "outputs": [],
   "source": [
    "le=LabelEncoder()\n",
    "test_data['CryoSleep']= le.fit_transform(test_data['CryoSleep'])\n",
    "test_data['VIP']= le.fit_transform(test_data['VIP'])\n",
    "test_data['HomePlanet']= le.fit_transform(test_data['HomePlanet'])\n",
    "test_data['Cabin']= le.fit_transform(test_data['Cabin'])\n",
    "test_data['Destination']= le.fit_transform(test_data['Destination'])\n"
   ]
  },
  {
   "cell_type": "code",
   "execution_count": null,
   "metadata": {
    "execution": {
     "iopub.execute_input": "2022-07-23T11:05:43.577822Z",
     "iopub.status.busy": "2022-07-23T11:05:43.577446Z",
     "iopub.status.idle": "2022-07-23T11:05:43.661226Z",
     "shell.execute_reply": "2022-07-23T11:05:43.660250Z",
     "shell.execute_reply.started": "2022-07-23T11:05:43.577790Z"
    }
   },
   "outputs": [],
   "source": [
    "ped=model.predict(test_data)"
   ]
  },
  {
   "cell_type": "code",
   "execution_count": null,
   "metadata": {
    "execution": {
     "iopub.execute_input": "2022-07-23T11:05:43.663257Z",
     "iopub.status.busy": "2022-07-23T11:05:43.662397Z",
     "iopub.status.idle": "2022-07-23T11:05:43.709099Z",
     "shell.execute_reply": "2022-07-23T11:05:43.708114Z",
     "shell.execute_reply.started": "2022-07-23T11:05:43.663221Z"
    }
   },
   "outputs": [],
   "source": [
    "test_data.to_csv('submittion')"
   ]
  }
 ],
 "metadata": {
  "kernelspec": {
   "display_name": "Python 3.9.12 ('base')",
   "language": "python",
   "name": "python3"
  },
  "language_info": {
   "codemirror_mode": {
    "name": "ipython",
    "version": 3
   },
   "file_extension": ".py",
   "mimetype": "text/x-python",
   "name": "python",
   "nbconvert_exporter": "python",
   "pygments_lexer": "ipython3",
   "version": "3.9.12"
  },
  "vscode": {
   "interpreter": {
    "hash": "6f0e98167b7ded32c2556823235f7e90b395232511db47ebd64ac9d876123714"
   }
  }
 },
 "nbformat": 4,
 "nbformat_minor": 4
}
