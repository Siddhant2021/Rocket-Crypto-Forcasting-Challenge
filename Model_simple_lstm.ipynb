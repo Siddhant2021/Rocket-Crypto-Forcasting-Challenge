{
 "cells": [
  {
   "cell_type": "markdown",
   "metadata": {},
   "source": [
    "# Quick LSTM Implementation"
   ]
  },
  {
   "cell_type": "code",
   "execution_count": 1,
   "metadata": {},
   "outputs": [],
   "source": [
    "import numpy as np\n",
    "import pandas as pd"
   ]
  },
  {
   "cell_type": "code",
   "execution_count": 2,
   "metadata": {},
   "outputs": [
    {
     "ename": "ModuleNotFoundError",
     "evalue": "No module named 'pandas_datareader'",
     "output_type": "error",
     "traceback": [
      "\u001b[0;31m---------------------------------------------------------------------------\u001b[0m",
      "\u001b[0;31mModuleNotFoundError\u001b[0m                       Traceback (most recent call last)",
      "\u001b[1;32m/Users/siddhant/Downloads/simple_lstm.ipynb Cell 3\u001b[0m in \u001b[0;36m<cell line: 2>\u001b[0;34m()\u001b[0m\n\u001b[1;32m      <a href='vscode-notebook-cell:/Users/siddhant/Downloads/simple_lstm.ipynb#W2sZmlsZQ%3D%3D?line=0'>1</a>\u001b[0m \u001b[39mimport\u001b[39;00m \u001b[39mmatplotlib\u001b[39;00m\u001b[39m.\u001b[39;00m\u001b[39mpyplot\u001b[39;00m \u001b[39mas\u001b[39;00m \u001b[39mplt\u001b[39;00m\n\u001b[0;32m----> <a href='vscode-notebook-cell:/Users/siddhant/Downloads/simple_lstm.ipynb#W2sZmlsZQ%3D%3D?line=1'>2</a>\u001b[0m \u001b[39mimport\u001b[39;00m \u001b[39mpandas_datareader\u001b[39;00m \u001b[39mas\u001b[39;00m \u001b[39mweb\u001b[39;00m\n\u001b[1;32m      <a href='vscode-notebook-cell:/Users/siddhant/Downloads/simple_lstm.ipynb#W2sZmlsZQ%3D%3D?line=2'>3</a>\u001b[0m \u001b[39mfrom\u001b[39;00m \u001b[39msklearn\u001b[39;00m\u001b[39m.\u001b[39;00m\u001b[39mpreprocessing\u001b[39;00m \u001b[39mimport\u001b[39;00m MinMaxScaler\n\u001b[1;32m      <a href='vscode-notebook-cell:/Users/siddhant/Downloads/simple_lstm.ipynb#W2sZmlsZQ%3D%3D?line=3'>4</a>\u001b[0m \u001b[39mfrom\u001b[39;00m \u001b[39mkeras\u001b[39;00m\u001b[39m.\u001b[39;00m\u001b[39mmodels\u001b[39;00m \u001b[39mimport\u001b[39;00m Sequential\n",
      "\u001b[0;31mModuleNotFoundError\u001b[0m: No module named 'pandas_datareader'"
     ]
    }
   ],
   "source": [
    "import matplotlib.pyplot as plt\n",
    "import pandas_datareader as web\n",
    "from sklearn.preprocessing import MinMaxScaler\n",
    "from keras.models import Sequential\n",
    "from keras.layers import Dense, LSTM\n",
    "import math"
   ]
  },
  {
   "cell_type": "code",
   "execution_count": null,
   "metadata": {},
   "outputs": [],
   "source": [
    "df = pd.read_csv('train_dataset.csv')"
   ]
  },
  {
   "cell_type": "code",
   "execution_count": null,
   "metadata": {},
   "outputs": [
    {
     "name": "stdout",
     "output_type": "stream",
     "text": [
      "<class 'pandas.core.frame.DataFrame'>\n",
      "RangeIndex: 86085 entries, 0 to 86084\n",
      "Columns: 2014 entries, date to target_DC1\n",
      "dtypes: float64(2012), object(2)\n",
      "memory usage: 1.3+ GB\n"
     ]
    }
   ],
   "source": [
    "df.info()"
   ]
  },
  {
   "cell_type": "code",
   "execution_count": null,
   "metadata": {},
   "outputs": [
    {
     "data": {
      "text/html": [
       "<div>\n",
       "<style scoped>\n",
       "    .dataframe tbody tr th:only-of-type {\n",
       "        vertical-align: middle;\n",
       "    }\n",
       "\n",
       "    .dataframe tbody tr th {\n",
       "        vertical-align: top;\n",
       "    }\n",
       "\n",
       "    .dataframe thead th {\n",
       "        text-align: right;\n",
       "    }\n",
       "</style>\n",
       "<table border=\"1\" class=\"dataframe\">\n",
       "  <thead>\n",
       "    <tr style=\"text-align: right;\">\n",
       "      <th></th>\n",
       "      <th>date</th>\n",
       "      <th>symbol</th>\n",
       "      <th>feature_1</th>\n",
       "      <th>feature_2</th>\n",
       "      <th>feature_3</th>\n",
       "      <th>feature_4</th>\n",
       "      <th>feature_5</th>\n",
       "      <th>feature_6</th>\n",
       "      <th>feature_7</th>\n",
       "      <th>feature_8</th>\n",
       "      <th>...</th>\n",
       "      <th>feature_2003</th>\n",
       "      <th>feature_2004</th>\n",
       "      <th>feature_2005</th>\n",
       "      <th>feature_2006</th>\n",
       "      <th>feature_2007</th>\n",
       "      <th>feature_2008</th>\n",
       "      <th>feature_2009</th>\n",
       "      <th>feature_DC1</th>\n",
       "      <th>target</th>\n",
       "      <th>target_DC1</th>\n",
       "    </tr>\n",
       "  </thead>\n",
       "  <tbody>\n",
       "    <tr>\n",
       "      <th>0</th>\n",
       "      <td>2018-04-29</td>\n",
       "      <td>BTC</td>\n",
       "      <td>0.000000</td>\n",
       "      <td>0.000000</td>\n",
       "      <td>0.965517</td>\n",
       "      <td>0.000000</td>\n",
       "      <td>0.000000</td>\n",
       "      <td>0.000000</td>\n",
       "      <td>0.000000</td>\n",
       "      <td>0.000000</td>\n",
       "      <td>...</td>\n",
       "      <td>0.689655</td>\n",
       "      <td>0.655172</td>\n",
       "      <td>0.655172</td>\n",
       "      <td>0.724138</td>\n",
       "      <td>0.827586</td>\n",
       "      <td>0.827586</td>\n",
       "      <td>0.931034</td>\n",
       "      <td>0.448276</td>\n",
       "      <td>0.758621</td>\n",
       "      <td>0.024718</td>\n",
       "    </tr>\n",
       "    <tr>\n",
       "      <th>1</th>\n",
       "      <td>2018-04-29</td>\n",
       "      <td>DLT</td>\n",
       "      <td>0.310345</td>\n",
       "      <td>0.310345</td>\n",
       "      <td>0.137931</td>\n",
       "      <td>0.275862</td>\n",
       "      <td>0.206897</td>\n",
       "      <td>0.517241</td>\n",
       "      <td>0.344828</td>\n",
       "      <td>0.689655</td>\n",
       "      <td>...</td>\n",
       "      <td>0.206897</td>\n",
       "      <td>0.206897</td>\n",
       "      <td>0.379310</td>\n",
       "      <td>0.172414</td>\n",
       "      <td>0.241379</td>\n",
       "      <td>0.379310</td>\n",
       "      <td>0.241379</td>\n",
       "      <td>0.793103</td>\n",
       "      <td>0.517241</td>\n",
       "      <td>-0.005240</td>\n",
       "    </tr>\n",
       "    <tr>\n",
       "      <th>2</th>\n",
       "      <td>2018-04-29</td>\n",
       "      <td>ENJ</td>\n",
       "      <td>0.241379</td>\n",
       "      <td>0.068966</td>\n",
       "      <td>0.310345</td>\n",
       "      <td>0.344828</td>\n",
       "      <td>0.103448</td>\n",
       "      <td>0.103448</td>\n",
       "      <td>0.379310</td>\n",
       "      <td>0.206897</td>\n",
       "      <td>...</td>\n",
       "      <td>0.379310</td>\n",
       "      <td>0.344828</td>\n",
       "      <td>0.310345</td>\n",
       "      <td>0.482759</td>\n",
       "      <td>0.655172</td>\n",
       "      <td>0.448276</td>\n",
       "      <td>0.724138</td>\n",
       "      <td>0.724138</td>\n",
       "      <td>0.413793</td>\n",
       "      <td>-0.036471</td>\n",
       "    </tr>\n",
       "    <tr>\n",
       "      <th>3</th>\n",
       "      <td>2018-04-29</td>\n",
       "      <td>OMG</td>\n",
       "      <td>0.758621</td>\n",
       "      <td>0.965517</td>\n",
       "      <td>0.896552</td>\n",
       "      <td>0.965517</td>\n",
       "      <td>0.965517</td>\n",
       "      <td>0.965517</td>\n",
       "      <td>0.068966</td>\n",
       "      <td>0.275862</td>\n",
       "      <td>...</td>\n",
       "      <td>0.896552</td>\n",
       "      <td>0.931034</td>\n",
       "      <td>0.896552</td>\n",
       "      <td>0.931034</td>\n",
       "      <td>0.896552</td>\n",
       "      <td>0.896552</td>\n",
       "      <td>0.827586</td>\n",
       "      <td>0.827586</td>\n",
       "      <td>0.275862</td>\n",
       "      <td>-0.066945</td>\n",
       "    </tr>\n",
       "    <tr>\n",
       "      <th>4</th>\n",
       "      <td>2018-04-29</td>\n",
       "      <td>UFR</td>\n",
       "      <td>0.620690</td>\n",
       "      <td>0.413793</td>\n",
       "      <td>0.275862</td>\n",
       "      <td>0.413793</td>\n",
       "      <td>0.517241</td>\n",
       "      <td>0.362069</td>\n",
       "      <td>0.758621</td>\n",
       "      <td>0.586207</td>\n",
       "      <td>...</td>\n",
       "      <td>0.482759</td>\n",
       "      <td>0.275862</td>\n",
       "      <td>0.172414</td>\n",
       "      <td>0.551724</td>\n",
       "      <td>0.103448</td>\n",
       "      <td>0.103448</td>\n",
       "      <td>0.137931</td>\n",
       "      <td>0.965517</td>\n",
       "      <td>0.724138</td>\n",
       "      <td>0.020286</td>\n",
       "    </tr>\n",
       "  </tbody>\n",
       "</table>\n",
       "<p>5 rows × 2014 columns</p>\n",
       "</div>"
      ],
      "text/plain": [
       "         date symbol  feature_1  feature_2  feature_3  feature_4  feature_5  \\\n",
       "0  2018-04-29    BTC   0.000000   0.000000   0.965517   0.000000   0.000000   \n",
       "1  2018-04-29    DLT   0.310345   0.310345   0.137931   0.275862   0.206897   \n",
       "2  2018-04-29    ENJ   0.241379   0.068966   0.310345   0.344828   0.103448   \n",
       "3  2018-04-29    OMG   0.758621   0.965517   0.896552   0.965517   0.965517   \n",
       "4  2018-04-29    UFR   0.620690   0.413793   0.275862   0.413793   0.517241   \n",
       "\n",
       "   feature_6  feature_7  feature_8  ...  feature_2003  feature_2004  \\\n",
       "0   0.000000   0.000000   0.000000  ...      0.689655      0.655172   \n",
       "1   0.517241   0.344828   0.689655  ...      0.206897      0.206897   \n",
       "2   0.103448   0.379310   0.206897  ...      0.379310      0.344828   \n",
       "3   0.965517   0.068966   0.275862  ...      0.896552      0.931034   \n",
       "4   0.362069   0.758621   0.586207  ...      0.482759      0.275862   \n",
       "\n",
       "   feature_2005  feature_2006  feature_2007  feature_2008  feature_2009  \\\n",
       "0      0.655172      0.724138      0.827586      0.827586      0.931034   \n",
       "1      0.379310      0.172414      0.241379      0.379310      0.241379   \n",
       "2      0.310345      0.482759      0.655172      0.448276      0.724138   \n",
       "3      0.896552      0.931034      0.896552      0.896552      0.827586   \n",
       "4      0.172414      0.551724      0.103448      0.103448      0.137931   \n",
       "\n",
       "   feature_DC1    target  target_DC1  \n",
       "0     0.448276  0.758621    0.024718  \n",
       "1     0.793103  0.517241   -0.005240  \n",
       "2     0.724138  0.413793   -0.036471  \n",
       "3     0.827586  0.275862   -0.066945  \n",
       "4     0.965517  0.724138    0.020286  \n",
       "\n",
       "[5 rows x 2014 columns]"
      ]
     },
     "execution_count": 80,
     "metadata": {},
     "output_type": "execute_result"
    }
   ],
   "source": [
    "df.head()"
   ]
  },
  {
   "cell_type": "code",
   "execution_count": null,
   "metadata": {},
   "outputs": [],
   "source": [
    "df['date'] = pd.to_datetime(df['date'])\n",
    "df.set_index('date',inplace=True)"
   ]
  },
  {
   "cell_type": "code",
   "execution_count": null,
   "metadata": {},
   "outputs": [
    {
     "data": {
      "text/plain": [
       "(86085, 2013)"
      ]
     },
     "execution_count": 82,
     "metadata": {},
     "output_type": "execute_result"
    }
   ],
   "source": [
    "df.shape"
   ]
  },
  {
   "cell_type": "code",
   "execution_count": null,
   "metadata": {},
   "outputs": [
    {
     "name": "stderr",
     "output_type": "stream",
     "text": [
      "c:\\Users\\Aniruddh\\anaconda3\\envs\\rocket\\lib\\site-packages\\ipykernel_launcher.py:2: FutureWarning: In a future version of pandas all arguments of DataFrame.drop except for the argument 'labels' will be keyword-only\n",
      "  \n"
     ]
    }
   ],
   "source": [
    "df_stock = df[df.symbol == 'BTC'].copy()\n",
    "df_stock.drop(['symbol'],1,inplace=True)"
   ]
  },
  {
   "cell_type": "code",
   "execution_count": null,
   "metadata": {},
   "outputs": [
    {
     "data": {
      "text/plain": [
       "(224, 2012)"
      ]
     },
     "execution_count": 84,
     "metadata": {},
     "output_type": "execute_result"
    }
   ],
   "source": [
    "df_stock.shape"
   ]
  },
  {
   "cell_type": "code",
   "execution_count": null,
   "metadata": {},
   "outputs": [
    {
     "data": {
      "image/png": "[encoded data removed]",
      "text/plain": [
       "<Figure size 1152x576 with 1 Axes>"
      ]
     },
     "metadata": {
      "needs_background": "light"
     },
     "output_type": "display_data"
    }
   ],
   "source": [
    "# Plot\n",
    "plt.figure(figsize=(16,8))\n",
    "plt.title('Target History')\n",
    "plt.plot(df_stock['target'], color='red')\n",
    "plt.xlabel('Date', fontsize=18)\n",
    "plt.ylabel('Target', fontsize = 18)\n",
    "plt.show()"
   ]
  },
  {
   "cell_type": "code",
   "execution_count": null,
   "metadata": {},
   "outputs": [
    {
     "data": {
      "text/plain": [
       "180"
      ]
     },
     "execution_count": 86,
     "metadata": {},
     "output_type": "execute_result"
    }
   ],
   "source": [
    "# Separate out the target\n",
    "data = df_stock.filter(['target'])\n",
    "dataset = data.values\n",
    "training_data_len = math.ceil(len(dataset)*.8)\n",
    "training_data_len"
   ]
  },
  {
   "cell_type": "code",
   "execution_count": null,
   "metadata": {},
   "outputs": [
    {
     "data": {
      "text/plain": [
       "array([[0.78546056],\n",
       "       [0.69319083],\n",
       "       [0.88549417],\n",
       "       [0.91740993],\n",
       "       [0.28674307],\n",
       "       [0.95786456],\n",
       "       [0.76529865],\n",
       "       [0.90576565],\n",
       "       [0.42495007],\n",
       "       [0.50620056],\n",
       "       [0.82529314],\n",
       "       [0.94264565],\n",
       "       [0.95016558],\n",
       "       [0.76565409],\n",
       "       [0.89544362],\n",
       "       [0.80279123],\n",
       "       [0.70671143],\n",
       "       [0.43285241],\n",
       "       [0.81895234],\n",
       "       [0.35141566],\n",
       "       [0.34204316],\n",
       "       [0.43933411],\n",
       "       [0.40150499],\n",
       "       [0.60912572],\n",
       "       [0.21837779],\n",
       "       [0.33870966],\n",
       "       [0.51472393],\n",
       "       [0.67202745],\n",
       "       [0.83372045],\n",
       "       [0.87128067],\n",
       "       [0.27678107],\n",
       "       [0.76147976],\n",
       "       [0.60681229],\n",
       "       [0.25857745],\n",
       "       [0.59377292],\n",
       "       [0.45255827],\n",
       "       [0.85742995],\n",
       "       [0.26680436],\n",
       "       [0.5429023 ],\n",
       "       [0.65478458],\n",
       "       [0.45294151],\n",
       "       [0.46051063],\n",
       "       [0.75703828],\n",
       "       [0.38572056],\n",
       "       [0.35700806],\n",
       "       [0.38589249],\n",
       "       [0.44612353],\n",
       "       [0.33960473],\n",
       "       [0.67779545],\n",
       "       [0.76281994],\n",
       "       [0.7746289 ],\n",
       "       [0.81983411],\n",
       "       [0.85606697],\n",
       "       [1.        ],\n",
       "       [0.62804037],\n",
       "       [0.53184884],\n",
       "       [0.5713759 ],\n",
       "       [0.37338293],\n",
       "       [0.7757629 ],\n",
       "       [0.94411717],\n",
       "       [0.7904478 ],\n",
       "       [0.57635566],\n",
       "       [0.8683133 ],\n",
       "       [0.66846349],\n",
       "       [0.2322586 ],\n",
       "       [0.89080963],\n",
       "       [0.89348446],\n",
       "       [0.37801492],\n",
       "       [0.41250584],\n",
       "       [0.63641686],\n",
       "       [0.79529457],\n",
       "       [0.41534329],\n",
       "       [0.24699233],\n",
       "       [0.53394087],\n",
       "       [0.30997471],\n",
       "       [0.59900367],\n",
       "       [0.57255281],\n",
       "       [0.90127341],\n",
       "       [0.21948906],\n",
       "       [0.46051063],\n",
       "       [0.31019636],\n",
       "       [0.58615794],\n",
       "       [0.50036853],\n",
       "       [0.56895622],\n",
       "       [0.53241722],\n",
       "       [0.80953093],\n",
       "       [0.53649204],\n",
       "       [0.45683673],\n",
       "       [0.79202904],\n",
       "       [0.61391722],\n",
       "       [0.32536672],\n",
       "       [0.50967697],\n",
       "       [0.2620243 ],\n",
       "       [0.33704217],\n",
       "       [0.55799561],\n",
       "       [0.64103837],\n",
       "       [0.53994283],\n",
       "       [0.5646184 ],\n",
       "       [0.72872623],\n",
       "       [0.49471262],\n",
       "       [0.58615794],\n",
       "       [0.54214588],\n",
       "       [0.46756946],\n",
       "       [0.54673917],\n",
       "       [0.82842816],\n",
       "       [0.60548829],\n",
       "       [0.55422547],\n",
       "       [0.10647677],\n",
       "       [0.41563659],\n",
       "       [0.38994159],\n",
       "       [0.40901583],\n",
       "       [0.30815899],\n",
       "       [0.57177868],\n",
       "       [0.34581894],\n",
       "       [0.33282027],\n",
       "       [0.39938491],\n",
       "       [0.59767278],\n",
       "       [0.81707731],\n",
       "       [0.35580454],\n",
       "       [0.35382895],\n",
       "       [0.57672597],\n",
       "       [0.37842105],\n",
       "       [0.72738684],\n",
       "       [0.51883497],\n",
       "       [0.87989642],\n",
       "       [0.6509866 ],\n",
       "       [0.67989482],\n",
       "       [0.6786711 ],\n",
       "       [0.73954556],\n",
       "       [0.895938  ],\n",
       "       [0.90059511],\n",
       "       [0.73467869],\n",
       "       [0.65537308],\n",
       "       [0.70499677],\n",
       "       [0.42663513],\n",
       "       [0.68813256],\n",
       "       [0.55669995],\n",
       "       [0.94880822],\n",
       "       [0.92910118],\n",
       "       [0.83923478],\n",
       "       [0.5943971 ],\n",
       "       [0.23540479],\n",
       "       [0.        ],\n",
       "       [0.48106042],\n",
       "       [0.50704667],\n",
       "       [0.38340887],\n",
       "       [0.67181366],\n",
       "       [0.57768733],\n",
       "       [0.33096296],\n",
       "       [0.46192239],\n",
       "       [0.14289438],\n",
       "       [0.38883263],\n",
       "       [0.23713763],\n",
       "       [0.47576582],\n",
       "       [0.61167571],\n",
       "       [0.65299161],\n",
       "       [0.33959481],\n",
       "       [0.52768057],\n",
       "       [0.34378192],\n",
       "       [0.90962187],\n",
       "       [0.17728924],\n",
       "       [0.2887174 ],\n",
       "       [0.9707223 ],\n",
       "       [0.53843144],\n",
       "       [0.88460067],\n",
       "       [0.19092708],\n",
       "       [0.52022893],\n",
       "       [0.75684862],\n",
       "       [0.66913257],\n",
       "       [0.53815784],\n",
       "       [0.4439157 ],\n",
       "       [0.27672441],\n",
       "       [0.68581747],\n",
       "       [0.47245429],\n",
       "       [0.37250862],\n",
       "       [0.55932065],\n",
       "       [0.7311738 ],\n",
       "       [0.69157178],\n",
       "       [0.591881  ],\n",
       "       [0.86309486],\n",
       "       [0.73403707],\n",
       "       [0.3309137 ],\n",
       "       [0.47643085],\n",
       "       [0.35924558],\n",
       "       [0.72099895],\n",
       "       [0.280705  ],\n",
       "       [0.53388866],\n",
       "       [0.61009076],\n",
       "       [0.75736965],\n",
       "       [0.52143053],\n",
       "       [0.60475829],\n",
       "       [0.3417586 ],\n",
       "       [0.6465142 ],\n",
       "       [0.49420497],\n",
       "       [0.81540917],\n",
       "       [0.71277176],\n",
       "       [0.53137877],\n",
       "       [0.75418333],\n",
       "       [0.52592024],\n",
       "       [0.7262506 ],\n",
       "       [0.69835475],\n",
       "       [0.67916158],\n",
       "       [0.53056578],\n",
       "       [0.54113992],\n",
       "       [0.1943087 ],\n",
       "       [0.60790056],\n",
       "       [0.58940569],\n",
       "       [0.66933291],\n",
       "       [0.84799959],\n",
       "       [0.46277863],\n",
       "       [0.95444062],\n",
       "       [0.37879594],\n",
       "       [0.71520112],\n",
       "       [0.56016194],\n",
       "       [0.73474954],\n",
       "       [0.05664428],\n",
       "       [0.19401519],\n",
       "       [0.41755428],\n",
       "       [0.66019684],\n",
       "       [0.33741638],\n",
       "       [0.63135481],\n",
       "       [0.42810874],\n",
       "       [0.25346803],\n",
       "       [0.62335381]])"
      ]
     },
     "execution_count": 87,
     "metadata": {},
     "output_type": "execute_result"
    }
   ],
   "source": [
    "# Rescale\n",
    "scaler = MinMaxScaler(feature_range=(0,1))\n",
    "scaled_data = scaler.fit_transform(dataset)\n",
    "scaled_data"
   ]
  },
  {
   "cell_type": "code",
   "execution_count": null,
   "metadata": {},
   "outputs": [
    {
     "name": "stdout",
     "output_type": "stream",
     "text": [
      "[array([0.78546056, 0.69319083, 0.88549417, 0.91740993, 0.28674307,\n",
      "       0.95786456, 0.76529865, 0.90576565, 0.42495007, 0.50620056,\n",
      "       0.82529314, 0.94264565, 0.95016558, 0.76565409, 0.89544362,\n",
      "       0.80279123, 0.70671143, 0.43285241, 0.81895234, 0.35141566,\n",
      "       0.34204316, 0.43933411, 0.40150499, 0.60912572, 0.21837779,\n",
      "       0.33870966, 0.51472393, 0.67202745, 0.83372045, 0.87128067,\n",
      "       0.27678107, 0.76147976, 0.60681229, 0.25857745, 0.59377292,\n",
      "       0.45255827, 0.85742995, 0.26680436, 0.5429023 , 0.65478458,\n",
      "       0.45294151, 0.46051063, 0.75703828, 0.38572056, 0.35700806,\n",
      "       0.38589249, 0.44612353, 0.33960473, 0.67779545, 0.76281994,\n",
      "       0.7746289 , 0.81983411, 0.85606697, 1.        , 0.62804037,\n",
      "       0.53184884, 0.5713759 , 0.37338293, 0.7757629 , 0.94411717])]\n",
      "[0.7904478040897736]\n",
      "\n"
     ]
    }
   ],
   "source": [
    "# Preparing training data\n",
    "\n",
    "train_data = scaled_data[0:training_data_len, :]\n",
    "# Train Test Split (Naive)\n",
    "x_train = []\n",
    "y_train = []\n",
    "for i in range(60,len(train_data)):\n",
    "    x_train.append(train_data[i-60:i, 0])\n",
    "    y_train.append(train_data[i,0])\n",
    "    if i<=60:\n",
    "        print(x_train)\n",
    "        print(y_train)\n",
    "        print()"
   ]
  },
  {
   "cell_type": "code",
   "execution_count": null,
   "metadata": {},
   "outputs": [],
   "source": [
    "x_train,y_train = np.array(x_train), np.array(y_train)"
   ]
  },
  {
   "cell_type": "code",
   "execution_count": null,
   "metadata": {},
   "outputs": [
    {
     "data": {
      "text/plain": [
       "(120, 60, 1)"
      ]
     },
     "execution_count": 90,
     "metadata": {},
     "output_type": "execute_result"
    }
   ],
   "source": [
    "# Reshape\n",
    "x_train = np.reshape(x_train,(x_train.shape[0],x_train.shape[1],1))\n",
    "x_train.shape"
   ]
  },
  {
   "cell_type": "code",
   "execution_count": null,
   "metadata": {},
   "outputs": [],
   "source": [
    "# LSTM model\n",
    "model =Sequential()\n",
    "model.add(LSTM(64,return_sequences=True, input_shape=(x_train.shape[1],1)))\n",
    "model.add(LSTM(64, return_sequences= False))\n",
    "model.add(Dense(32))\n",
    "model.add(Dense(1))"
   ]
  },
  {
   "cell_type": "code",
   "execution_count": null,
   "metadata": {},
   "outputs": [],
   "source": [
    "# Complie the model\n",
    "model.compile(optimizer='adam', loss='mean_squared_error')"
   ]
  },
  {
   "cell_type": "code",
   "execution_count": null,
   "metadata": {},
   "outputs": [
    {
     "name": "stdout",
     "output_type": "stream",
     "text": [
      "Epoch 1/20\n",
      "120/120 [==============================] - 1s 9ms/step - loss: 0.0957\n",
      "Epoch 2/20\n",
      "120/120 [==============================] - 1s 5ms/step - loss: 0.0496\n",
      "Epoch 3/20\n",
      "120/120 [==============================] - 1s 5ms/step - loss: 0.0455\n",
      "Epoch 4/20\n",
      "120/120 [==============================] - 1s 5ms/step - loss: 0.0505\n",
      "Epoch 5/20\n",
      "120/120 [==============================] - 1s 5ms/step - loss: 0.0444\n",
      "Epoch 6/20\n",
      "120/120 [==============================] - 1s 5ms/step - loss: 0.0433\n",
      "Epoch 7/20\n",
      "120/120 [==============================] - 1s 5ms/step - loss: 0.0438\n",
      "Epoch 8/20\n",
      "120/120 [==============================] - 1s 5ms/step - loss: 0.0445\n",
      "Epoch 9/20\n",
      "120/120 [==============================] - 1s 5ms/step - loss: 0.0426\n",
      "Epoch 10/20\n",
      "120/120 [==============================] - 1s 5ms/step - loss: 0.0441\n",
      "Epoch 11/20\n",
      "120/120 [==============================] - 1s 5ms/step - loss: 0.0430\n",
      "Epoch 12/20\n",
      "120/120 [==============================] - 1s 5ms/step - loss: 0.0435\n",
      "Epoch 13/20\n",
      "120/120 [==============================] - 1s 5ms/step - loss: 0.0419\n",
      "Epoch 14/20\n",
      "120/120 [==============================] - 1s 5ms/step - loss: 0.0432\n",
      "Epoch 15/20\n",
      "120/120 [==============================] - 1s 5ms/step - loss: 0.0480\n",
      "Epoch 16/20\n",
      "120/120 [==============================] - 1s 5ms/step - loss: 0.0436\n",
      "Epoch 17/20\n",
      "120/120 [==============================] - 1s 5ms/step - loss: 0.0443\n",
      "Epoch 18/20\n",
      "120/120 [==============================] - 1s 5ms/step - loss: 0.0421\n",
      "Epoch 19/20\n",
      "120/120 [==============================] - 1s 5ms/step - loss: 0.0428\n",
      "Epoch 20/20\n",
      "120/120 [==============================] - 1s 5ms/step - loss: 0.0418\n"
     ]
    },
    {
     "data": {
      "text/plain": [
       "<keras.callbacks.callbacks.History at 0x240778d9308>"
      ]
     },
     "execution_count": 93,
     "metadata": {},
     "output_type": "execute_result"
    }
   ],
   "source": [
    "# Train the model\n",
    "model.fit(x_train,y_train, batch_size=5, epochs=20)"
   ]
  },
  {
   "cell_type": "code",
   "execution_count": null,
   "metadata": {},
   "outputs": [],
   "source": [
    "# Create test_data\n",
    "test_data= scaled_data[training_data_len-60:, :]\n",
    "x_test = []\n",
    "y_test = dataset[training_data_len:,:]\n",
    "for i in range(60,len(test_data)):\n",
    "    x_test.append(test_data[i-60:i,0])"
   ]
  },
  {
   "cell_type": "code",
   "execution_count": null,
   "metadata": {},
   "outputs": [],
   "source": [
    "x_test = np.array(x_test)"
   ]
  },
  {
   "cell_type": "code",
   "execution_count": null,
   "metadata": {},
   "outputs": [
    {
     "data": {
      "text/plain": [
       "(44, 60, 1)"
      ]
     },
     "execution_count": 96,
     "metadata": {},
     "output_type": "execute_result"
    }
   ],
   "source": [
    "# Reshape\n",
    "x_test = np.reshape(x_test, (x_test.shape[0], x_test.shape[1],1))\n",
    "x_test.shape"
   ]
  },
  {
   "cell_type": "code",
   "execution_count": null,
   "metadata": {},
   "outputs": [],
   "source": [
    "# Predictions\n",
    "predictions = model.predict(x_test)\n",
    "predictions = scaler.inverse_transform(predictions)"
   ]
  },
  {
   "cell_type": "code",
   "execution_count": null,
   "metadata": {},
   "outputs": [
    {
     "data": {
      "text/plain": [
       "0.040956666911609076"
      ]
     },
     "execution_count": 98,
     "metadata": {},
     "output_type": "execute_result"
    }
   ],
   "source": [
    "# RMSE\n",
    "rmse = np.sqrt(np.mean(predictions - y_test)**2)\n",
    "rmse"
   ]
  },
  {
   "cell_type": "code",
   "execution_count": null,
   "metadata": {},
   "outputs": [
    {
     "name": "stderr",
     "output_type": "stream",
     "text": [
      "c:\\Users\\Aniruddh\\anaconda3\\envs\\rocket\\lib\\site-packages\\ipykernel_launcher.py:4: SettingWithCopyWarning: \n",
      "A value is trying to be set on a copy of a slice from a DataFrame.\n",
      "Try using .loc[row_indexer,col_indexer] = value instead\n",
      "\n",
      "See the caveats in the documentation: https://pandas.pydata.org/pandas-docs/stable/user_guide/indexing.html#returning-a-view-versus-a-copy\n",
      "  after removing the cwd from sys.path.\n"
     ]
    },
    {
     "data": {
      "text/plain": [
       "<matplotlib.legend.Legend at 0x2401d194d08>"
      ]
     },
     "execution_count": 99,
     "metadata": {},
     "output_type": "execute_result"
    },
    {
     "data": {
      "image/png": "[encoded data removed]",
      "text/plain": [
       "<Figure size 1152x576 with 1 Axes>"
      ]
     },
     "metadata": {
      "needs_background": "light"
     },
     "output_type": "display_data"
    }
   ],
   "source": [
    "# Plot the data\n",
    "train = data[:training_data_len]\n",
    "valid = data[training_data_len:]\n",
    "valid['Predictions'] = predictions\n",
    "\n",
    "plt.figure(figsize=(16,8))\n",
    "plt.title('Model')\n",
    "plt.xlabel('Date', fontsize=18)\n",
    "plt.ylabel('Target' ,fontsize=18)\n",
    "plt.plot(train['target'],linewidth=3.5)\n",
    "plt.plot(valid[['target','Predictions']],linewidth=3.5)\n",
    "plt.legend(['Train','Valid','Predictions'], loc='upper center')"
   ]
  },
  {
   "cell_type": "code",
   "execution_count": null,
   "metadata": {},
   "outputs": [
    {
     "data": {
      "text/html": [
       "<div>\n",
       "<style scoped>\n",
       "    .dataframe tbody tr th:only-of-type {\n",
       "        vertical-align: middle;\n",
       "    }\n",
       "\n",
       "    .dataframe tbody tr th {\n",
       "        vertical-align: top;\n",
       "    }\n",
       "\n",
       "    .dataframe thead th {\n",
       "        text-align: right;\n",
       "    }\n",
       "</style>\n",
       "<table border=\"1\" class=\"dataframe\">\n",
       "  <thead>\n",
       "    <tr style=\"text-align: right;\">\n",
       "      <th></th>\n",
       "      <th>target</th>\n",
       "      <th>Predictions</th>\n",
       "    </tr>\n",
       "    <tr>\n",
       "      <th>date</th>\n",
       "      <th></th>\n",
       "      <th></th>\n",
       "    </tr>\n",
       "  </thead>\n",
       "  <tbody>\n",
       "    <tr>\n",
       "      <th>2021-10-10</th>\n",
       "      <td>0.717694</td>\n",
       "      <td>0.540204</td>\n",
       "    </tr>\n",
       "    <tr>\n",
       "      <th>2021-10-17</th>\n",
       "      <td>0.396857</td>\n",
       "      <td>0.550937</td>\n",
       "    </tr>\n",
       "    <tr>\n",
       "      <th>2021-10-24</th>\n",
       "      <td>0.512671</td>\n",
       "      <td>0.549465</td>\n",
       "    </tr>\n",
       "    <tr>\n",
       "      <th>2021-10-31</th>\n",
       "      <td>0.419405</td>\n",
       "      <td>0.545161</td>\n",
       "    </tr>\n",
       "    <tr>\n",
       "      <th>2021-11-07</th>\n",
       "      <td>0.707317</td>\n",
       "      <td>0.535690</td>\n",
       "    </tr>\n",
       "    <tr>\n",
       "      <th>2021-11-14</th>\n",
       "      <td>0.356897</td>\n",
       "      <td>0.533688</td>\n",
       "    </tr>\n",
       "    <tr>\n",
       "      <th>2021-11-21</th>\n",
       "      <td>0.558400</td>\n",
       "      <td>0.523893</td>\n",
       "    </tr>\n",
       "    <tr>\n",
       "      <th>2021-11-28</th>\n",
       "      <td>0.619048</td>\n",
       "      <td>0.517804</td>\n",
       "    </tr>\n",
       "    <tr>\n",
       "      <th>2021-12-05</th>\n",
       "      <td>0.736264</td>\n",
       "      <td>0.516056</td>\n",
       "    </tr>\n",
       "    <tr>\n",
       "      <th>2021-12-12</th>\n",
       "      <td>0.548485</td>\n",
       "      <td>0.521113</td>\n",
       "    </tr>\n",
       "    <tr>\n",
       "      <th>2021-12-19</th>\n",
       "      <td>0.614804</td>\n",
       "      <td>0.523561</td>\n",
       "    </tr>\n",
       "    <tr>\n",
       "      <th>2021-12-26</th>\n",
       "      <td>0.405488</td>\n",
       "      <td>0.526950</td>\n",
       "    </tr>\n",
       "    <tr>\n",
       "      <th>2022-01-02</th>\n",
       "      <td>0.648036</td>\n",
       "      <td>0.523409</td>\n",
       "    </tr>\n",
       "    <tr>\n",
       "      <th>2022-01-09</th>\n",
       "      <td>0.526817</td>\n",
       "      <td>0.524466</td>\n",
       "    </tr>\n",
       "    <tr>\n",
       "      <th>2022-01-16</th>\n",
       "      <td>0.782456</td>\n",
       "      <td>0.523626</td>\n",
       "    </tr>\n",
       "    <tr>\n",
       "      <th>2022-01-23</th>\n",
       "      <td>0.700769</td>\n",
       "      <td>0.530627</td>\n",
       "    </tr>\n",
       "    <tr>\n",
       "      <th>2022-01-30</th>\n",
       "      <td>0.556402</td>\n",
       "      <td>0.538635</td>\n",
       "    </tr>\n",
       "    <tr>\n",
       "      <th>2022-02-06</th>\n",
       "      <td>0.733728</td>\n",
       "      <td>0.542003</td>\n",
       "    </tr>\n",
       "    <tr>\n",
       "      <th>2022-02-13</th>\n",
       "      <td>0.552058</td>\n",
       "      <td>0.548527</td>\n",
       "    </tr>\n",
       "    <tr>\n",
       "      <th>2022-02-20</th>\n",
       "      <td>0.711497</td>\n",
       "      <td>0.549722</td>\n",
       "    </tr>\n",
       "    <tr>\n",
       "      <th>2022-02-27</th>\n",
       "      <td>0.689295</td>\n",
       "      <td>0.553377</td>\n",
       "    </tr>\n",
       "    <tr>\n",
       "      <th>2022-03-06</th>\n",
       "      <td>0.674020</td>\n",
       "      <td>0.556932</td>\n",
       "    </tr>\n",
       "    <tr>\n",
       "      <th>2022-03-13</th>\n",
       "      <td>0.555755</td>\n",
       "      <td>0.559637</td>\n",
       "    </tr>\n",
       "    <tr>\n",
       "      <th>2022-03-20</th>\n",
       "      <td>0.564171</td>\n",
       "      <td>0.557484</td>\n",
       "    </tr>\n",
       "    <tr>\n",
       "      <th>2022-03-27</th>\n",
       "      <td>0.288136</td>\n",
       "      <td>0.553004</td>\n",
       "    </tr>\n",
       "    <tr>\n",
       "      <th>2022-04-03</th>\n",
       "      <td>0.617304</td>\n",
       "      <td>0.537822</td>\n",
       "    </tr>\n",
       "    <tr>\n",
       "      <th>2022-04-10</th>\n",
       "      <td>0.602585</td>\n",
       "      <td>0.529077</td>\n",
       "    </tr>\n",
       "    <tr>\n",
       "      <th>2022-04-17</th>\n",
       "      <td>0.666197</td>\n",
       "      <td>0.523609</td>\n",
       "    </tr>\n",
       "    <tr>\n",
       "      <th>2022-04-24</th>\n",
       "      <td>0.808394</td>\n",
       "      <td>0.523014</td>\n",
       "    </tr>\n",
       "    <tr>\n",
       "      <th>2022-05-01</th>\n",
       "      <td>0.501805</td>\n",
       "      <td>0.530310</td>\n",
       "    </tr>\n",
       "    <tr>\n",
       "      <th>2022-05-08</th>\n",
       "      <td>0.893108</td>\n",
       "      <td>0.531343</td>\n",
       "    </tr>\n",
       "    <tr>\n",
       "      <th>2022-05-15</th>\n",
       "      <td>0.434965</td>\n",
       "      <td>0.542536</td>\n",
       "    </tr>\n",
       "    <tr>\n",
       "      <th>2022-05-22</th>\n",
       "      <td>0.702703</td>\n",
       "      <td>0.542499</td>\n",
       "    </tr>\n",
       "    <tr>\n",
       "      <th>2022-05-29</th>\n",
       "      <td>0.579310</td>\n",
       "      <td>0.545888</td>\n",
       "    </tr>\n",
       "    <tr>\n",
       "      <th>2022-06-05</th>\n",
       "      <td>0.718261</td>\n",
       "      <td>0.546019</td>\n",
       "    </tr>\n",
       "    <tr>\n",
       "      <th>2022-06-12</th>\n",
       "      <td>0.178571</td>\n",
       "      <td>0.549200</td>\n",
       "    </tr>\n",
       "    <tr>\n",
       "      <th>2022-06-19</th>\n",
       "      <td>0.287902</td>\n",
       "      <td>0.535173</td>\n",
       "    </tr>\n",
       "    <tr>\n",
       "      <th>2022-06-26</th>\n",
       "      <td>0.465812</td>\n",
       "      <td>0.516729</td>\n",
       "    </tr>\n",
       "    <tr>\n",
       "      <th>2022-07-03</th>\n",
       "      <td>0.658926</td>\n",
       "      <td>0.502483</td>\n",
       "    </tr>\n",
       "    <tr>\n",
       "      <th>2022-07-10</th>\n",
       "      <td>0.402032</td>\n",
       "      <td>0.498162</td>\n",
       "    </tr>\n",
       "    <tr>\n",
       "      <th>2022-07-17</th>\n",
       "      <td>0.635971</td>\n",
       "      <td>0.491746</td>\n",
       "    </tr>\n",
       "    <tr>\n",
       "      <th>2022-07-24</th>\n",
       "      <td>0.474212</td>\n",
       "      <td>0.493051</td>\n",
       "    </tr>\n",
       "    <tr>\n",
       "      <th>2022-07-31</th>\n",
       "      <td>0.335219</td>\n",
       "      <td>0.493456</td>\n",
       "    </tr>\n",
       "    <tr>\n",
       "      <th>2022-08-07</th>\n",
       "      <td>0.629603</td>\n",
       "      <td>0.489170</td>\n",
       "    </tr>\n",
       "  </tbody>\n",
       "</table>\n",
       "</div>"
      ],
      "text/plain": [
       "              target  Predictions\n",
       "date                             \n",
       "2021-10-10  0.717694     0.540204\n",
       "2021-10-17  0.396857     0.550937\n",
       "2021-10-24  0.512671     0.549465\n",
       "2021-10-31  0.419405     0.545161\n",
       "2021-11-07  0.707317     0.535690\n",
       "2021-11-14  0.356897     0.533688\n",
       "2021-11-21  0.558400     0.523893\n",
       "2021-11-28  0.619048     0.517804\n",
       "2021-12-05  0.736264     0.516056\n",
       "2021-12-12  0.548485     0.521113\n",
       "2021-12-19  0.614804     0.523561\n",
       "2021-12-26  0.405488     0.526950\n",
       "2022-01-02  0.648036     0.523409\n",
       "2022-01-09  0.526817     0.524466\n",
       "2022-01-16  0.782456     0.523626\n",
       "2022-01-23  0.700769     0.530627\n",
       "2022-01-30  0.556402     0.538635\n",
       "2022-02-06  0.733728     0.542003\n",
       "2022-02-13  0.552058     0.548527\n",
       "2022-02-20  0.711497     0.549722\n",
       "2022-02-27  0.689295     0.553377\n",
       "2022-03-06  0.674020     0.556932\n",
       "2022-03-13  0.555755     0.559637\n",
       "2022-03-20  0.564171     0.557484\n",
       "2022-03-27  0.288136     0.553004\n",
       "2022-04-03  0.617304     0.537822\n",
       "2022-04-10  0.602585     0.529077\n",
       "2022-04-17  0.666197     0.523609\n",
       "2022-04-24  0.808394     0.523014\n",
       "2022-05-01  0.501805     0.530310\n",
       "2022-05-08  0.893108     0.531343\n",
       "2022-05-15  0.434965     0.542536\n",
       "2022-05-22  0.702703     0.542499\n",
       "2022-05-29  0.579310     0.545888\n",
       "2022-06-05  0.718261     0.546019\n",
       "2022-06-12  0.178571     0.549200\n",
       "2022-06-19  0.287902     0.535173\n",
       "2022-06-26  0.465812     0.516729\n",
       "2022-07-03  0.658926     0.502483\n",
       "2022-07-10  0.402032     0.498162\n",
       "2022-07-17  0.635971     0.491746\n",
       "2022-07-24  0.474212     0.493051\n",
       "2022-07-31  0.335219     0.493456\n",
       "2022-08-07  0.629603     0.489170"
      ]
     },
     "execution_count": 100,
     "metadata": {},
     "output_type": "execute_result"
    }
   ],
   "source": [
    "valid"
   ]
  }
 ],
 "metadata": {
  "kernelspec": {
   "display_name": "Python 3.10.3 64-bit",
   "language": "python",
   "name": "python3"
  },
  "language_info": {
   "codemirror_mode": {
    "name": "ipython",
    "version": 3
   },
   "file_extension": ".py",
   "mimetype": "text/x-python",
   "name": "python",
   "nbconvert_exporter": "python",
   "pygments_lexer": "ipython3",
   "version": "3.10.3"
  },
  "vscode": {
   "interpreter": {
    "hash": "aee8b7b246df8f9039afb4144a1f6fd8d2ca17a180786b69acc140d282b71a49"
   }
  }
 },
 "nbformat": 4,
 "nbformat_minor": 4
}
